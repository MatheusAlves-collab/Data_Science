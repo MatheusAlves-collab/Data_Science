{
 "cells": [
  {
   "cell_type": "code",
   "execution_count": 44,
   "metadata": {},
   "outputs": [],
   "source": [
    "from sklearn.datasets import load_iris\n",
    "import pandas as pd\n",
    "from sklearn.naive_bayes import GaussianNB\n",
    "from sklearn.model_selection import train_test_split\n",
    "from sklearn.model_selection import GridSearchCV\n",
    "from sklearn.model_selection import StratifiedKFold\n",
    "\n",
    "import warnings \n",
    "warnings.filterwarnings(\"ignore\")"
   ]
  },
  {
   "cell_type": "markdown",
   "metadata": {},
   "source": [
    "## Naive Bayes\n",
    "\n",
    "O método de Naive Bayes é um algoritmo de classificação probabilística baseado no teorema de Bayes, que assume independência condicional entre as variáveis.\n",
    "\n",
    "1. **Teorema de Bayes:**\n",
    "   O método de Naive Bayes utiliza o teorema de Bayes, que é uma fórmula probabilística que relaciona a probabilidade condicional de eventos. A fórmula do teorema de Bayes é dada por:\n",
    "\n",
    "$$ P(A|B) = \\frac{P(B|A) \\cdot P(A)}{P(B)} $$\n",
    "\n",
    "   Onde:\n",
    "   - $ P(A|B) $ é a probabilidade condicional de A dado B.\n",
    "   - $ P(B|A) $ é a probabilidade condicional de B dado A.\n",
    "   - $ P(A) $ e $ P(B) $ são as probabilidades marginais de A e B, respectivamente."
   ]
  },
  {
   "cell_type": "markdown",
   "metadata": {},
   "source": [
    "### Usos da Função em Relação ao Tipo de Dado\n",
    "\n",
    "- Quando os dados das variáveis preditoras são discretos, devemos utilizar a função \n",
    "MultinomialNB.  \n",
    "- Quando os dados das variáveis preditoras são discretos e binários, devemos utilizar a \n",
    "função BernoulliNB.  \n",
    "- Quando os dados das variáveis preditoras são contínuos, devemos utilizar a função \n",
    "GaussianNB.  "
   ]
  },
  {
   "cell_type": "markdown",
   "metadata": {},
   "source": [
    "### Suavização de Laplace\n",
    "\n",
    "A suavização de Laplace é uma técnica usada no contexto do método Naive Bayes para lidar com a probabilidade de ocorrência zero de certas características em um conjunto de dados de treinamento no caso de problema de classificação.\n",
    "\n",
    "$$ P(x_i|C) = \\frac{x_i + \\alpha}{{C + d*\\alpha}} $$\n",
    "\n",
    "Onde:\n",
    "- $ P(x_i|C) $ é a probabilidade condicional de uma característica $x_i$ dada a classe $C$.\n",
    "- $ x_i $ é o número de instâncias em que a característica $x_i$ ocorre na classe $C$.\n",
    "- $ C $ é o número total de instâncias na classe $C$.\n",
    "- $ \\alpha $ é a constante de Laplace, tem que ser maior queo 0.\n",
    "- $ d $ número de classes."
   ]
  },
  {
   "cell_type": "code",
   "execution_count": 45,
   "metadata": {},
   "outputs": [
    {
     "data": {
      "text/html": [
       "<div>\n",
       "<style scoped>\n",
       "    .dataframe tbody tr th:only-of-type {\n",
       "        vertical-align: middle;\n",
       "    }\n",
       "\n",
       "    .dataframe tbody tr th {\n",
       "        vertical-align: top;\n",
       "    }\n",
       "\n",
       "    .dataframe thead tr th {\n",
       "        text-align: left;\n",
       "    }\n",
       "</style>\n",
       "<table border=\"1\" class=\"dataframe\">\n",
       "  <thead>\n",
       "    <tr>\n",
       "      <th></th>\n",
       "      <th>sepal length (cm)</th>\n",
       "      <th>sepal width (cm)</th>\n",
       "      <th>petal length (cm)</th>\n",
       "      <th>petal width (cm)</th>\n",
       "    </tr>\n",
       "  </thead>\n",
       "  <tbody>\n",
       "    <tr>\n",
       "      <th>0</th>\n",
       "      <td>5.1</td>\n",
       "      <td>3.5</td>\n",
       "      <td>1.4</td>\n",
       "      <td>0.2</td>\n",
       "    </tr>\n",
       "    <tr>\n",
       "      <th>1</th>\n",
       "      <td>4.9</td>\n",
       "      <td>3.0</td>\n",
       "      <td>1.4</td>\n",
       "      <td>0.2</td>\n",
       "    </tr>\n",
       "    <tr>\n",
       "      <th>2</th>\n",
       "      <td>4.7</td>\n",
       "      <td>3.2</td>\n",
       "      <td>1.3</td>\n",
       "      <td>0.2</td>\n",
       "    </tr>\n",
       "    <tr>\n",
       "      <th>3</th>\n",
       "      <td>4.6</td>\n",
       "      <td>3.1</td>\n",
       "      <td>1.5</td>\n",
       "      <td>0.2</td>\n",
       "    </tr>\n",
       "    <tr>\n",
       "      <th>4</th>\n",
       "      <td>5.0</td>\n",
       "      <td>3.6</td>\n",
       "      <td>1.4</td>\n",
       "      <td>0.2</td>\n",
       "    </tr>\n",
       "  </tbody>\n",
       "</table>\n",
       "</div>"
      ],
      "text/plain": [
       "  sepal length (cm) sepal width (cm) petal length (cm) petal width (cm)\n",
       "0               5.1              3.5               1.4              0.2\n",
       "1               4.9              3.0               1.4              0.2\n",
       "2               4.7              3.2               1.3              0.2\n",
       "3               4.6              3.1               1.5              0.2\n",
       "4               5.0              3.6               1.4              0.2"
      ]
     },
     "execution_count": 45,
     "metadata": {},
     "output_type": "execute_result"
    }
   ],
   "source": [
    "iris = load_iris()\n",
    "x_iris = pd.DataFrame(iris.data, columns= [iris.feature_names])\n",
    "y_iris = pd.Series(iris.target)\n",
    "\n",
    "x_iris.head()"
   ]
  },
  {
   "cell_type": "code",
   "execution_count": 46,
   "metadata": {},
   "outputs": [
    {
     "name": "stdout",
     "output_type": "stream",
     "text": [
      "Acurácia: 0.978\n"
     ]
    }
   ],
   "source": [
    "# Swparando em Treino e Teste\n",
    "X_treino, X_teste, Y_treino, Y_teste = train_test_split(x_iris, y_iris, test_size= 0.3, random_state=67)\n",
    "\n",
    "#Modelo\n",
    "modeloNB = GaussianNB()\n",
    "modeloNB.fit(X_treino, Y_treino)\n",
    "\n",
    "#Score\n",
    "resultado = modeloNB.score(X_teste, Y_teste)\n",
    "print(\"Acurácia:\", round(resultado,3))"
   ]
  },
  {
   "cell_type": "markdown",
   "metadata": {},
   "source": [
    "### Dados de Vinho"
   ]
  },
  {
   "cell_type": "code",
   "execution_count": 47,
   "metadata": {},
   "outputs": [
    {
     "data": {
      "text/plain": [
       "fixed_acidity           0.0\n",
       "volatile_acidity        0.0\n",
       "citric_acid             0.0\n",
       "residual_sugar          0.0\n",
       "chlorides               0.0\n",
       "free_sulfur_dioxide     0.0\n",
       "total_sulfur_dioxide    0.0\n",
       "density                 0.0\n",
       "pH                      0.0\n",
       "sulphates               0.0\n",
       "alcohol                 0.0\n",
       "quality                 0.0\n",
       "style                   0.0\n",
       "dtype: float64"
      ]
     },
     "execution_count": 47,
     "metadata": {},
     "output_type": "execute_result"
    }
   ],
   "source": [
    "df_wine = pd.read_csv('wine_dataset.csv')\n",
    "\n",
    "# Contar as ocorrências de cada StyleID\n",
    "contagem_classe = df_wine['style'].value_counts()\n",
    "\n",
    "percen_wine = round((df_wine.isnull().sum() / df_wine.shape[0] )*100, 2)\n",
    "percen_wine"
   ]
  },
  {
   "cell_type": "code",
   "execution_count": 49,
   "metadata": {},
   "outputs": [
    {
     "name": "stdout",
     "output_type": "stream",
     "text": [
      "Acurácia: 0.969\n"
     ]
    }
   ],
   "source": [
    "x_wine = df_wine.loc[:, df_wine.columns != 'style']\n",
    "y_wine = df_wine.loc[:, df_wine.columns == 'style']\n",
    "\n",
    "#Modelo\n",
    "modeloNB = GaussianNB()\n",
    "skfold = StratifiedKFold(n_splits=5)\n",
    "\n",
    "# Defina os parâmetros a serem testados\n",
    "parametros_grid = {\n",
    "    'priors': [None],  # None indica os valores padrão (equiprováveis)\n",
    "    'var_smoothing': [1e-9]\n",
    "}\n",
    "\n",
    "procura_wine = GridSearchCV(estimator= modeloNB,  cv = skfold, param_grid = parametros_grid)\n",
    "procura_wine.fit(x_wine, y_wine)\n",
    "\n",
    "#Score\n",
    "print(\"Acurácia:\", round(procura_wine.best_score_,3))"
   ]
  }
 ],
 "metadata": {
  "kernelspec": {
   "display_name": "Python 3",
   "language": "python",
   "name": "python3"
  },
  "language_info": {
   "codemirror_mode": {
    "name": "ipython",
    "version": 3
   },
   "file_extension": ".py",
   "mimetype": "text/x-python",
   "name": "python",
   "nbconvert_exporter": "python",
   "pygments_lexer": "ipython3",
   "version": "3.12.2"
  }
 },
 "nbformat": 4,
 "nbformat_minor": 2
}
