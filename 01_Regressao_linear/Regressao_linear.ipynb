{
 "cells": [
  {
   "cell_type": "code",
   "execution_count": 1,
   "metadata": {},
   "outputs": [],
   "source": [
    "from sklearn.datasets import make_regression\n",
    "from sklearn.linear_model import LinearRegression\n",
    "import matplotlib.pyplot as plt\n",
    "import numpy as np\n",
    "from sklearn.model_selection import train_test_split\n",
    "import pandas as pd"
   ]
  },
  {
   "cell_type": "markdown",
   "metadata": {},
   "source": [
    "<h1>Regressão Linear<h1>"
   ]
  },
  {
   "cell_type": "markdown",
   "metadata": {},
   "source": [
    "Daddos gerados de forma aleatória, abaixo temos um gráfico de dispersão dos pontos, logo em seguida geramos o modelo de regressão linear para esses pontos criando uma reta vermelha que melhor explique o comportamento desses dados, com isso conseguimos prever valores futuros."
   ]
  },
  {
   "cell_type": "markdown",
   "metadata": {},
   "source": [
    "$Y = \\beta_0 + \\beta_1*x_1 + \\beta_1*x_1 + ... +  \\beta_k*x_k + \\epsilon$\n",
    "\n",
    "$Y$: é a variavél a ser estimada <br>\n",
    "$x_k$: Váriaveis explicativas <br>\n",
    "$\\beta_0$ : Coeficiente Linear <br>\n",
    "$\\beta_k$: Coeficientes Angular <br>\n",
    "$\\epsilon$: Erro de predição"
   ]
  },
  {
   "cell_type": "markdown",
   "metadata": {},
   "source": [
    "<strong>Assuntos de Regressão Linear</strong>\n",
    "\n",
    "<ol>\n",
    "<li>Deve haver uma relação linear entre variáveis independentes e dependentes.</li>\n",
    "<li>Não deve haver nenhum outliers presente.</li>\n",
    "<li>Sem heterocedasticidade (variância não constante em torno da reta).</li>\n",
    "<li>As observações da amostra devem ser independentes.</li>\n",
    "<li>Os termos de erro devem ser normalmente distribuídos com média 0 e variância constante.</li>\n",
    "<li>Ausência de multicolinearidade e autocorrelação.</li>\n",
    "</ol>"
   ]
  },
  {
   "cell_type": "code",
   "execution_count": 2,
   "metadata": {},
   "outputs": [
    {
     "data": {
      "image/png": "[encoded data removed]",
      "text/plain": [
       "<Figure size 432x288 with 1 Axes>"
      ]
     },
     "metadata": {
      "needs_background": "light"
     },
     "output_type": "display_data"
    }
   ],
   "source": [
    "x, y = make_regression(n_samples=200, n_features=1, noise = 30)\n",
    "x_treino, x_teste, y_treino, y_teste =train_test_split(x, y, test_size= 0.3)\n",
    "\n",
    "plt.scatter(x_teste,y_teste)\n",
    "plt.show()"
   ]
  },
  {
   "cell_type": "code",
   "execution_count": 3,
   "metadata": {},
   "outputs": [
    {
     "name": "stdout",
     "output_type": "stream",
     "text": [
      "0.027084666023887483\n"
     ]
    }
   ],
   "source": [
    "modelo = LinearRegression()\n",
    "modelo.fit(x_treino, y_treino)\n",
    "resultado = modelo.score(x_teste, y_teste) # Coeficiente de determinação R quadrado da predição, \n",
    "# quanto mais próximo de 1 melhor\n",
    "\n",
    "print(resultado)"
   ]
  },
  {
   "cell_type": "code",
   "execution_count": 4,
   "metadata": {},
   "outputs": [
    {
     "data": {
      "text/plain": [
       "-1.2984018538650686"
      ]
     },
     "execution_count": 4,
     "metadata": {},
     "output_type": "execute_result"
    }
   ],
   "source": [
    "modelo.intercept_"
   ]
  },
  {
   "cell_type": "code",
   "execution_count": 5,
   "metadata": {},
   "outputs": [
    {
     "data": {
      "text/plain": [
       "array([11.98787701])"
      ]
     },
     "execution_count": 5,
     "metadata": {},
     "output_type": "execute_result"
    }
   ],
   "source": [
    "modelo.coef_"
   ]
  },
  {
   "cell_type": "code",
   "execution_count": 6,
   "metadata": {},
   "outputs": [
    {
     "data": {
      "image/png": "[encoded data removed]",
      "text/plain": [
       "<Figure size 432x288 with 1 Axes>"
      ]
     },
     "metadata": {
      "needs_background": "light"
     },
     "output_type": "display_data"
    }
   ],
   "source": [
    "plt.scatter(x_teste,y_teste)\n",
    "xreg = range(-2,4, 1)\n",
    "\n",
    "plt.plot(xreg, modelo.intercept_ + xreg*modelo.coef_, color = 'red')\n",
    "plt.show()"
   ]
  },
  {
   "cell_type": "markdown",
   "metadata": {},
   "source": [
    "<h1>Regressão Linear para Dados Imobiliários<h1>"
   ]
  },
  {
   "cell_type": "markdown",
   "metadata": {},
   "source": [
    "Foram coletados dados imobiliários que contém dados de casas vendidas da região de King County (USA) com o intuito de realizar uma regressão linear pra rever preços de casas.<br>\n",
    "O modelo será treinado em 70% dos dados e para medir a performance será usado o Coeficiente de determinação $R^2$ da predição, quanto mais próximo de 1 seu valor, melhor o modelo terá de performance.\n",
    "\n",
    "Link dos dados:  https://www.kaggle.com/harlfoxem/housesalesprediction"
   ]
  },
  {
   "cell_type": "code",
   "execution_count": 7,
   "metadata": {},
   "outputs": [],
   "source": [
    "# Dados Imobiliarios dos EUA\n",
    "\n",
    "df = pd.read_csv('kc_house_data.csv')"
   ]
  },
  {
   "cell_type": "code",
   "execution_count": 8,
   "metadata": {},
   "outputs": [],
   "source": [
    "# Limpeza dos dados\n",
    "\n",
    "df_house = (df.drop(['id', 'date', 'long', 'lat', 'zipcode'], axis='columns')).copy()\n",
    "\n",
    "x = df_house.loc[:, df_house.columns != 'price']\n",
    "y = df_house.loc[:, df_house.columns == 'price']\n",
    "\n",
    "#y = df_house['price']\n",
    "#x = df_house.drop(['price'], axis='columns')\n",
    "\n",
    "# Separando dados em teste e treino\n",
    "x_treino, x_teste, y_treino, y_teste =train_test_split(df_house.loc[:, df_house.columns != 'price'], \n",
    "                                                       df_house.loc[:, df_house.columns == 'price'], \n",
    "                                                       test_size= 0.3, random_state= 10)"
   ]
  },
  {
   "cell_type": "markdown",
   "metadata": {},
   "source": [
    "Desconsideramos a variáveis <b>id</b>, <b>date</b>, <b>long</b>, <b>lat</b> e <b>zipcode</b> pois não são relevantes para explicar o modelo.\n",
    "\n",
    "<ul>\n",
    "<li>Id: Número Único de cada casa</li>\n",
    "<li>Date: Data de Venda</li>\n",
    "<li>Long: Longitude</li>\n",
    "<li>Lat:Latitude</li>\n",
    "<li>Zipcode: Código Zip (CEP)</li>\n",
    "</ul>"
   ]
  },
  {
   "cell_type": "code",
   "execution_count": 9,
   "metadata": {},
   "outputs": [
    {
     "name": "stdout",
     "output_type": "stream",
     "text": [
      "0.6608668622831368\n"
     ]
    }
   ],
   "source": [
    "modelo = LinearRegression()\n",
    "modelo.fit(x_treino, y_treino) # Treinando modelo\n",
    "resultado = modelo.score(x_teste, y_teste) # Coeficiente de determinação R quadrado da predição, quanto mais próximo de \n",
    "# 1 melhor, realizando nos dados de teste\n",
    "\n",
    "print(resultado)"
   ]
  },
  {
   "cell_type": "code",
   "execution_count": 10,
   "metadata": {},
   "outputs": [
    {
     "data": {
      "text/plain": [
       "array([5962933.36298389])"
      ]
     },
     "execution_count": 10,
     "metadata": {},
     "output_type": "execute_result"
    }
   ],
   "source": [
    "# Intercepto do modelo\n",
    "modelo.intercept_"
   ]
  },
  {
   "cell_type": "code",
   "execution_count": 12,
   "metadata": {},
   "outputs": [
    {
     "data": {
      "text/plain": [
       "array([[-3.74904870e+04,  4.26245474e+04,  1.01816470e+02,\n",
       "        -8.36903887e-02,  2.28754596e+04,  5.55262013e+05,\n",
       "         4.27078718e+04,  2.00183311e+04,  1.24843127e+05,\n",
       "         4.93868179e+01,  5.24296523e+01, -3.46486295e+03,\n",
       "         6.12640926e+00,  3.00673514e+01, -4.35823714e-01]])"
      ]
     },
     "execution_count": 12,
     "metadata": {},
     "output_type": "execute_result"
    }
   ],
   "source": [
    "# Coeficientes do modelo\n",
    "modelo.coef_"
   ]
  },
  {
   "cell_type": "markdown",
   "metadata": {},
   "source": [
    "O $R^2$ do modelo foi 0,66."
   ]
  },
  {
   "cell_type": "markdown",
   "metadata": {},
   "source": [
    "<h1>Métodos de Regularização<h1>\n",
    "\n",
    "<h2>Ridge<h2>"
   ]
  },
  {
   "cell_type": "markdown",
   "metadata": {},
   "source": [
    "Métodos de regularização são utilizados em regressões lineares para melhorar a performance de um modelo adicionando uma função de penalidade na função de custo da regressão linear, no caso do Rige essa função é a soma dos quadrados dos coeficientes do modelo. <br>\n",
    "\n",
    "Residual sum of squares (RSS) mede o quão bem a regressão linear performa com dados de treino:"
   ]
  },
  {
   "cell_type": "markdown",
   "metadata": {},
   "source": [
    "$$RSS =  \\sum_{i=1}^{n}(Y_i - \\hat{Y_l})^2$$"
   ]
  },
  {
   "cell_type": "markdown",
   "metadata": {},
   "source": [
    "Esta fórmula mede a exatidão da previsão do modelo para valores reais nos dados de treino. \n",
    "Se RSS = 0, o modelo prevê perfeitamente. No entanto, isso nem sempre é desejável, uma vez que pode indicar overffiting, \n",
    "especialmente se o conjunto de dados de treino for pequeno. A multicolinearidade pode ser uma das causas deste fato. <br>\n",
    "\n",
    " Quando um ou mais coeficientes são demasiado elevados, o resultado do modelo torna-se sensível a pequenas alterações nos dados de entrada, podendo indicar overffiting. A regressão Ridge modifica a função de mínimos quadrados corrigindo os coeficientes de valor elevado introduzindo um termo de regularização na função RSS. Este termo de penalização é a soma dos quadrados dos coeficientes do modelo multiplicado por uma constante $\\lambda$.\n"
   ]
  },
  {
   "cell_type": "markdown",
   "metadata": {},
   "source": [
    "$$RSS =  \\sum_{i=1}^{n}(Y_i - \\hat{Y_l})^2 + \\lambda*\\sum_{j=1}^{k}\\beta_j^2$$"
   ]
  },
  {
   "cell_type": "code",
   "execution_count": 14,
   "metadata": {},
   "outputs": [
    {
     "name": "stdout",
     "output_type": "stream",
     "text": [
      "0.660823533244763\n"
     ]
    }
   ],
   "source": [
    "from sklearn.linear_model import Ridge\n",
    "modeloRidge = Ridge(alpha= 1) # alpha é lambda\n",
    "modeloRidge.fit(x_treino, y_treino) # Treinando modelo\n",
    "ResultadoRidge =  modeloRidge.score(x_teste, y_teste) \n",
    "\n",
    "print(ResultadoRidge)\n"
   ]
  }
 ],
 "metadata": {
  "kernelspec": {
   "display_name": "Python 3",
   "language": "python",
   "name": "python3"
  },
  "language_info": {
   "codemirror_mode": {
    "name": "ipython",
    "version": 3
   },
   "file_extension": ".py",
   "mimetype": "text/x-python",
   "name": "python",
   "nbconvert_exporter": "python",
   "pygments_lexer": "ipython3",
   "version": "3.10.1"
  },
  "orig_nbformat": 4
 },
 "nbformat": 4,
 "nbformat_minor": 2
}
