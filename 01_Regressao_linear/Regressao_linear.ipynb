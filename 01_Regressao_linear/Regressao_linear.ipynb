{
 "cells": [
  {
   "cell_type": "code",
   "execution_count": 23,
   "metadata": {},
   "outputs": [],
   "source": [
    "from sklearn.datasets import make_regression\n",
    "from sklearn.linear_model import LinearRegression\n",
    "import matplotlib.pyplot as plt\n",
    "import numpy as np\n",
    "from sklearn.model_selection import train_test_split\n",
    "import pandas as pd\n",
    "\n",
    "import warnings\n",
    "warnings.simplefilter(action='ignore', category=FutureWarning)\n",
    "\n",
    "from warnings import simplefilter\n",
    "from sklearn.exceptions import ConvergenceWarning\n",
    "simplefilter(\"ignore\", category=ConvergenceWarning)"
   ]
  },
  {
   "cell_type": "markdown",
   "metadata": {},
   "source": [
    "<h1>Regressão Linear<h1>"
   ]
  },
  {
   "cell_type": "markdown",
   "metadata": {},
   "source": [
    "Daddos gerados de forma aleatória, abaixo temos um gráfico de dispersão dos pontos, logo em seguida geramos o modelo de regressão linear para esses pontos criando uma reta vermelha que melhor explique o comportamento desses dados, com isso conseguimos prever valores futuros."
   ]
  },
  {
   "cell_type": "markdown",
   "metadata": {},
   "source": [
    "$Y = \\beta_0 + \\beta_1*x_1 + \\beta_1*x_1 + ... +  \\beta_k*x_k + \\epsilon$\n",
    "\n",
    "$Y$: é a variavél a ser estimada <br>\n",
    "$x_k$: Váriaveis explicativas <br>\n",
    "$\\beta_0$ : Coeficiente Linear <br>\n",
    "$\\beta_k$: Coeficientes Angular <br>\n",
    "$\\epsilon$: Erro de predição"
   ]
  },
  {
   "cell_type": "markdown",
   "metadata": {},
   "source": [
    "<strong>Assuntos de Regressão Linear</strong>\n",
    "\n",
    "<ol>\n",
    "<li>Deve haver uma relação linear entre variáveis independentes e dependentes.</li>\n",
    "<li>Não deve haver nenhum outliers presente.</li>\n",
    "<li>Sem heterocedasticidade (variância não constante em torno da reta).</li>\n",
    "<li>As observações da amostra devem ser independentes.</li>\n",
    "<li>Os termos de erro devem ser normalmente distribuídos com média 0 e variância constante.</li>\n",
    "<li>Ausência de multicolinearidade e autocorrelação.</li>\n",
    "</ol>"
   ]
  },
  {
   "cell_type": "code",
   "execution_count": 24,
   "metadata": {},
   "outputs": [
    {
     "data": {
      "image/png": "[encoded data removed]",
      "text/plain": [
       "<Figure size 432x288 with 1 Axes>"
      ]
     },
     "metadata": {
      "needs_background": "light"
     },
     "output_type": "display_data"
    }
   ],
   "source": [
    "x, y = make_regression(n_samples=200, n_features=1, noise = 30)\n",
    "x_treino, x_teste, y_treino, y_teste =train_test_split(x, y, test_size= 0.3)\n",
    "\n",
    "plt.scatter(x_teste,y_teste)\n",
    "plt.show()"
   ]
  },
  {
   "cell_type": "code",
   "execution_count": 25,
   "metadata": {},
   "outputs": [
    {
     "name": "stdout",
     "output_type": "stream",
     "text": [
      "0.8195061670401453\n"
     ]
    }
   ],
   "source": [
    "modelo = LinearRegression()\n",
    "modelo.fit(x_treino, y_treino)\n",
    "resultado = modelo.score(x_teste, y_teste) # Coeficiente de determinação R quadrado da predição, \n",
    "# quanto mais próximo de 1 melhor\n",
    "\n",
    "print(resultado)"
   ]
  },
  {
   "cell_type": "code",
   "execution_count": 26,
   "metadata": {},
   "outputs": [
    {
     "data": {
      "text/plain": [
       "1.1506462717610955"
      ]
     },
     "execution_count": 26,
     "metadata": {},
     "output_type": "execute_result"
    }
   ],
   "source": [
    "modelo.intercept_"
   ]
  },
  {
   "cell_type": "code",
   "execution_count": 27,
   "metadata": {},
   "outputs": [
    {
     "data": {
      "text/plain": [
       "array([70.16149905])"
      ]
     },
     "execution_count": 27,
     "metadata": {},
     "output_type": "execute_result"
    }
   ],
   "source": [
    "modelo.coef_"
   ]
  },
  {
   "cell_type": "code",
   "execution_count": 28,
   "metadata": {},
   "outputs": [
    {
     "data": {
      "image/png": "[encoded data removed]",
      "text/plain": [
       "<Figure size 432x288 with 1 Axes>"
      ]
     },
     "metadata": {
      "needs_background": "light"
     },
     "output_type": "display_data"
    }
   ],
   "source": [
    "plt.scatter(x_teste,y_teste)\n",
    "xreg = range(-2,4, 1)\n",
    "\n",
    "plt.plot(xreg, modelo.intercept_ + xreg*modelo.coef_, color = 'red')\n",
    "plt.show()"
   ]
  },
  {
   "cell_type": "markdown",
   "metadata": {},
   "source": [
    "<h1>Regressão Linear para Dados Imobiliários<h1>"
   ]
  },
  {
   "cell_type": "markdown",
   "metadata": {},
   "source": [
    "Foram coletados dados imobiliários que contém dados de casas vendidas da região de King County (USA) com o intuito de realizar uma regressão linear pra rever preços de casas.<br>\n",
    "O modelo será treinado em 70% dos dados e para medir a performance será usado o Coeficiente de determinação $R^2$ da predição, quanto mais próximo de 1 seu valor, melhor o modelo terá de performance.\n",
    "\n",
    "Link dos dados:  https://www.kaggle.com/harlfoxem/housesalesprediction"
   ]
  },
  {
   "cell_type": "code",
   "execution_count": 29,
   "metadata": {},
   "outputs": [],
   "source": [
    "# Dados Imobiliarios dos EUA\n",
    "\n",
    "df = pd.read_csv('kc_house_data.csv')"
   ]
  },
  {
   "cell_type": "code",
   "execution_count": 30,
   "metadata": {},
   "outputs": [],
   "source": [
    "# Limpeza dos dados\n",
    "\n",
    "df_house = (df.drop(['id', 'date', 'long', 'lat', 'zipcode'], axis='columns')).copy()\n",
    "\n",
    "x = df_house.loc[:, df_house.columns != 'price']\n",
    "y = df_house.loc[:, df_house.columns == 'price']\n",
    "\n",
    "#y = df_house['price']\n",
    "#x = df_house.drop(['price'], axis='columns')\n",
    "\n",
    "# Separando dados em teste e treino\n",
    "x_treino, x_teste, y_treino, y_teste =train_test_split(df_house.loc[:, df_house.columns != 'price'], \n",
    "                                                       df_house.loc[:, df_house.columns == 'price'], \n",
    "                                                       test_size= 0.3, random_state= 14)"
   ]
  },
  {
   "cell_type": "markdown",
   "metadata": {},
   "source": [
    "Desconsideramos a variáveis <b>id</b>, <b>date</b>, <b>long</b>, <b>lat</b> e <b>zipcode</b> pois não são relevantes para explicar o modelo.\n",
    "\n",
    "<ul>\n",
    "<li>Id: Número Único de cada casa</li>\n",
    "<li>Date: Data de Venda</li>\n",
    "<li>Long: Longitude</li>\n",
    "<li>Lat:Latitude</li>\n",
    "<li>Zipcode: Código Zip (CEP)</li>\n",
    "</ul>"
   ]
  },
  {
   "cell_type": "code",
   "execution_count": 31,
   "metadata": {},
   "outputs": [
    {
     "name": "stdout",
     "output_type": "stream",
     "text": [
      "0.653809419628106\n"
     ]
    }
   ],
   "source": [
    "modelo = LinearRegression()\n",
    "modelo.fit(x_treino, y_treino) # Treinando modelo\n",
    "resultado = modelo.score(x_teste, y_teste) # Coeficiente de determinação R quadrado da predição, quanto mais próximo de \n",
    "# 1 melhor, realizando nos dados de teste\n",
    "\n",
    "print(resultado)"
   ]
  },
  {
   "cell_type": "code",
   "execution_count": 32,
   "metadata": {},
   "outputs": [
    {
     "data": {
      "text/plain": [
       "array([6371486.08883051])"
      ]
     },
     "execution_count": 32,
     "metadata": {},
     "output_type": "execute_result"
    }
   ],
   "source": [
    "# Intercepto do modelo\n",
    "modelo.intercept_"
   ]
  },
  {
   "cell_type": "code",
   "execution_count": 33,
   "metadata": {},
   "outputs": [
    {
     "data": {
      "text/plain": [
       "array([[-3.93353980e+04,  4.64216263e+04,  1.12600642e+02,\n",
       "        -4.98437603e-02,  2.52226669e+04,  6.23006309e+05,\n",
       "         4.36406692e+04,  1.83637896e+04,  1.20503940e+05,\n",
       "         5.70332101e+01,  5.55674320e+01, -3.65952762e+03,\n",
       "         1.20704136e+01,  1.68241544e+01, -5.45409758e-01]])"
      ]
     },
     "execution_count": 33,
     "metadata": {},
     "output_type": "execute_result"
    }
   ],
   "source": [
    "# Coeficientes do modelo\n",
    "modelo.coef_"
   ]
  },
  {
   "cell_type": "markdown",
   "metadata": {},
   "source": [
    "O $R^2$ do modelo foi 0,66."
   ]
  },
  {
   "cell_type": "markdown",
   "metadata": {},
   "source": [
    "<h1>Métodos de Regularização<h1>\n",
    "\n",
    "<h2>Ridge e Lasso<h2>"
   ]
  },
  {
   "cell_type": "markdown",
   "metadata": {},
   "source": [
    "Métodos de regularização são utilizados em regressões lineares para melhorar a performance de um modelo adicionando uma função de penalidade na função de custo da regressão linear, no caso do Rige (L2) essa função é a soma dos quadrados dos coeficientes do modelo, já no Lasso (L1) é a soma do modulo desses coeficientes. <br>\n",
    "\n",
    "Residual sum of squares (RSS) mede o quão bem a regressão linear performa com dados de treino:"
   ]
  },
  {
   "cell_type": "markdown",
   "metadata": {},
   "source": [
    "$$RSS =  \\sum_{i=1}^{n}(Y_i - \\hat{Y_l})^2$$"
   ]
  },
  {
   "cell_type": "markdown",
   "metadata": {},
   "source": [
    "Esta fórmula mede a exatidão da previsão do modelo para valores reais nos dados de treino. \n",
    "Se RSS = 0, o modelo prevê perfeitamente. No entanto, isso nem sempre é desejável, uma vez que pode indicar overffiting, \n",
    "especialmente se o conjunto de dados de treino for pequeno. A multicolinearidade pode ser uma das causas deste fato. <br>\n",
    "\n",
    "Quando um ou mais coeficientes são demasiado elevados, o resultado do modelo torna-se sensível a pequenas alterações nos dados de entrada, podendo indicar overffiting. A regressão Ridge modifica a função de mínimos quadrados corrigindo os coeficientes de valor elevado introduzindo um termo de regularização na função RSS. Este termo de penalização é a soma dos quadrados dos coeficientes do modelo multiplicado por uma constante $\\lambda$. "
   ]
  },
  {
   "cell_type": "markdown",
   "metadata": {},
   "source": [
    "$$RSS =  \\sum_{i=1}^{n}(Y_i - \\hat{Y_l})^2 + \\lambda*\\sum_{j=1}^{k}\\beta_j^2$$"
   ]
  },
  {
   "cell_type": "markdown",
   "metadata": {},
   "source": [
    "Na Regressão Lasso a função de penalização é definida como soma do modulos dos coeficientes do modelo multiplicado por uma constante $\\lambda$. "
   ]
  },
  {
   "cell_type": "markdown",
   "metadata": {},
   "source": [
    "$$RSS =  \\sum_{i=1}^{n}(Y_i - \\hat{Y_l})^2 + \\lambda*\\sum_{j=1}^{k}|\\beta_j|$$"
   ]
  },
  {
   "cell_type": "code",
   "execution_count": 34,
   "metadata": {},
   "outputs": [
    {
     "name": "stdout",
     "output_type": "stream",
     "text": [
      "0.6545037069731697\n"
     ]
    }
   ],
   "source": [
    "from sklearn.linear_model import Ridge\n",
    "modeloRidge = Ridge(alpha= 10) # alpha é lambda\n",
    "modeloRidge.fit(x_treino, y_treino) # Treinando modelo\n",
    "ResultadoRidge =  modeloRidge.score(x_teste, y_teste) \n",
    "\n",
    "print(ResultadoRidge)"
   ]
  },
  {
   "cell_type": "code",
   "execution_count": 35,
   "metadata": {},
   "outputs": [
    {
     "name": "stdout",
     "output_type": "stream",
     "text": [
      "0.6546240167941455\n"
     ]
    }
   ],
   "source": [
    "from sklearn.linear_model import Lasso\n",
    "modeloLasso = Lasso(alpha= 500, max_iter= 5000, tol = 0.1) # alpha é lambda\n",
    "modeloLasso.fit(x_treino, y_treino) # Treinando modelo\n",
    "ResultadoLasso =  modeloLasso.score(x_teste, y_teste) \n",
    "\n",
    "print(ResultadoLasso)"
   ]
  },
  {
   "cell_type": "markdown",
   "metadata": {},
   "source": [
    "<h1>Elastic Net<h1>"
   ]
  },
  {
   "cell_type": "markdown",
   "metadata": {},
   "source": [
    "Elastic net é a regressão que utiliza as duas formas de regularização, Ridge e Lasso e nela é possível definir um peso de\n",
    "relevância para cada penalização com base no valor $c$ da formula:"
   ]
  },
  {
   "cell_type": "markdown",
   "metadata": {},
   "source": [
    "$$RSS =  \\sum_{i=1}^{n}(Y_i - \\hat{Y_l})^2 + c*\\sum_{j=1}^{k}|\\beta_j| + (1-c)*\\sum_{j=1}^{k}\\beta_j^2$$"
   ]
  },
  {
   "cell_type": "code",
   "execution_count": 36,
   "metadata": {},
   "outputs": [
    {
     "name": "stdout",
     "output_type": "stream",
     "text": [
      "0.6312158728428808\n"
     ]
    }
   ],
   "source": [
    "from sklearn.linear_model import ElasticNet\n",
    "modeloElastic = ElasticNet(alpha= 1, l1_ratio= 0.9, tol = 0.3) # alpha é lambda\n",
    "modeloElastic.fit(x_treino, y_treino) # Treinando modelo\n",
    "ResultadoElastic =  modeloElastic.score(x_teste, y_teste) \n",
    "\n",
    "print(ResultadoElastic)"
   ]
  },
  {
   "cell_type": "code",
   "execution_count": 37,
   "metadata": {},
   "outputs": [],
   "source": [
    "def modelos_regressao (treino_x, teste_x, treino_y, teste_y):\n",
    "    reg = LinearRegression()\n",
    "    lasso = Lasso()\n",
    "    ridge = Ridge()\n",
    "    elastic = ElasticNet()\n",
    "\n",
    "    reg.fit(treino_x, treino_y)\n",
    "    lasso.fit(treino_x, treino_y)\n",
    "    ridge.fit(treino_x, treino_y)\n",
    "    reg.fit(treino_x, treino_y)\n",
    "    lasso.fit(treino_x, treino_y)\n",
    "    ridge.fit(treino_x, treino_y)\n",
    "    elastic.fit(treino_x, treino_y)\n",
    "\n",
    "    reg_score = reg.score(teste_x, teste_y) \n",
    "    lasso_score = lasso.score(teste_x, teste_y) \n",
    "    ridge_score = ridge.score(teste_x, teste_y) \n",
    "    elastic_score = elastic.score(teste_x, teste_y) \n",
    "\n",
    "    dic_models = {'Linear':reg_score , 'Lasso':lasso_score, 'Ridge':ridge_score, 'Elastic':elastic_score}\n",
    "\n",
    "    print(\"Regressão Linear:\", reg_score, \"\\nLasso:\", lasso_score, \"\\nRidge:\", ridge_score, \"\\nElastic Net:\", elastic_score)\n",
    "    print(\"O melhor modelo foi\",max(dic_models, key = dic_models.get),\"com valor\", max(dic_models.values()))"
   ]
  },
  {
   "cell_type": "code",
   "execution_count": 38,
   "metadata": {},
   "outputs": [
    {
     "name": "stdout",
     "output_type": "stream",
     "text": [
      "Regressão Linear: 0.653809419628106 \n",
      "Lasso: 0.653811715690852 \n",
      "Ridge: 0.6539029726255622 \n",
      "Elastic Net: 0.6241134858939881\n",
      "O melhor modelo foi Ridge com valor 0.6539029726255622\n"
     ]
    }
   ],
   "source": [
    "modelos_regressao(x_treino, x_teste,y_treino, y_teste)"
   ]
  },
  {
   "cell_type": "markdown",
   "metadata": {},
   "source": [
    "<h1>Admissão de Estudantes<h1>"
   ]
  },
  {
   "cell_type": "code",
   "execution_count": 39,
   "metadata": {},
   "outputs": [
    {
     "data": {
      "text/plain": [
       "Serial No.           0.0\n",
       "GRE Score            0.0\n",
       "TOEFL Score          0.0\n",
       "University Rating    0.0\n",
       "SOP                  0.0\n",
       "LOR                  0.0\n",
       "CGPA                 0.0\n",
       "Research             0.0\n",
       "Chance of Admit      0.0\n",
       "dtype: float64"
      ]
     },
     "execution_count": 39,
     "metadata": {},
     "output_type": "execute_result"
    }
   ],
   "source": [
    "df_adm = pd.read_csv('Admission_Predict.csv')\n",
    "\n",
    "percen_faltantes= round((df_adm.isnull().sum() / len(df_adm['Chance of Admit ']) )*100, 2)\n",
    "\n",
    "percen_faltantes"
   ]
  },
  {
   "cell_type": "code",
   "execution_count": 40,
   "metadata": {},
   "outputs": [
    {
     "name": "stdout",
     "output_type": "stream",
     "text": [
      "Regressão Linear: 0.8074301329952366 \n",
      "Lasso: 0.2880440026881922 \n",
      "Ridge: 0.8086244883902469 \n",
      "Elastic Net: 0.6153065342269577\n",
      "O melhor modelo foi Ridge com valor 0.8086244883902469\n"
     ]
    }
   ],
   "source": [
    "# Limpeza dos dados\n",
    "\n",
    "df_admiss = (df_adm.drop(['Serial No.'], axis='columns')).copy()\n",
    "\n",
    "x_admiss = df_admiss.loc[:, df_admiss.columns != 'Chance of Admit ']\n",
    "y_admiss = df_admiss.loc[:, df_admiss.columns == 'Chance of Admit ']\n",
    "\n",
    "# Separando dados em teste e treino\n",
    "x_treino, x_teste, y_treino, y_teste =train_test_split(x_admiss, \n",
    "                                                       y_admiss, \n",
    "                                                       test_size= 0.3, random_state= 14)\n",
    "\n",
    "modelos_regressao(x_treino, x_teste, y_treino, y_teste)"
   ]
  }
 ],
 "metadata": {
  "kernelspec": {
   "display_name": "Python 3",
   "language": "python",
   "name": "python3"
  },
  "language_info": {
   "codemirror_mode": {
    "name": "ipython",
    "version": 3
   },
   "file_extension": ".py",
   "mimetype": "text/x-python",
   "name": "python",
   "nbconvert_exporter": "python",
   "pygments_lexer": "ipython3",
   "version": "3.10.1"
  },
  "orig_nbformat": 4
 },
 "nbformat": 4,
 "nbformat_minor": 2
}
