{
 "cells": [
  {
   "cell_type": "code",
   "execution_count": 22,
   "metadata": {},
   "outputs": [],
   "source": [
    "import pandas as pd\n",
    "from sklearn.tree import DecisionTreeRegressor\n",
    "import warnings \n",
    "warnings.filterwarnings(\"ignore\")"
   ]
  },
  {
   "cell_type": "markdown",
   "metadata": {},
   "source": [
    "### Lidando com dados em branco\n",
    "\n",
    "Substituindo dados em branco com um modelo de regressão, será usado o dataset de cerveja."
   ]
  },
  {
   "cell_type": "code",
   "execution_count": 23,
   "metadata": {},
   "outputs": [
    {
     "data": {
      "text/plain": [
       "BeerID            0.00\n",
       "Name              0.01\n",
       "URL               0.00\n",
       "Style             0.00\n",
       "StyleID           0.00\n",
       "Size(L)           0.00\n",
       "OG                0.00\n",
       "FG                0.00\n",
       "ABV               0.00\n",
       "IBU               0.00\n",
       "Color             0.00\n",
       "BoilSize          0.00\n",
       "BoilTime          0.00\n",
       "BoilGravity       3.67\n",
       "Efficiency        0.00\n",
       "MashThickness    40.92\n",
       "SugarScale        0.00\n",
       "BrewMethod        0.00\n",
       "PitchRate        55.19\n",
       "PrimaryTemp      31.80\n",
       "PrimingMethod    91.84\n",
       "PrimingAmount    94.20\n",
       "UserId           69.32\n",
       "dtype: float64"
      ]
     },
     "execution_count": 23,
     "metadata": {},
     "output_type": "execute_result"
    }
   ],
   "source": [
    "df = pd.read_csv('recipeData.csv', encoding= \"ISO-8859-1\")\n",
    "\n",
    "# Contar as ocorrências de cada StyleID\n",
    "contagem_classe = df['StyleID'].value_counts()\n",
    "\n",
    "# Filtrar o DataFrame para manter apenas as linhas com mais de 1000 amostras\n",
    "df_filtrado = df[df['StyleID'].isin(contagem_classe[contagem_classe > 1000].index)]\n",
    "\n",
    "percen_faltantes = round((df_filtrado.isnull().sum() / df_filtrado.shape[0] )*100, 2)\n",
    "percen_faltantes"
   ]
  },
  {
   "cell_type": "code",
   "execution_count": 24,
   "metadata": {},
   "outputs": [],
   "source": [
    "# Váriaveis strings\n",
    "sugar = pd.get_dummies(df_filtrado['SugarScale']).astype(int)\n",
    "brew = pd.get_dummies(df_filtrado['BrewMethod']).astype(int)\n",
    "concatenado = pd.concat([df_filtrado, sugar, brew], axis=1)\n",
    "\n",
    "# Preenchendo dados faltantes pela mediana, performa melhor caso tenha outliers\n",
    "concatenado['PrimaryTemp'].fillna(concatenado['PrimaryTemp'].median(), inplace= True ) \n",
    "concatenado['BoilGravity'].fillna(concatenado['BoilGravity'].median(), inplace= True ) \n",
    "\n",
    "df_missing = concatenado.drop(['BeerID', 'Name', 'URL', 'Style', 'PrimingAmount', 'PrimingMethod', 'UserId',\n",
    "         'MashThickness', 'SugarScale', 'BrewMethod']\n",
    "        , axis=1)"
   ]
  },
  {
   "cell_type": "code",
   "execution_count": 25,
   "metadata": {},
   "outputs": [],
   "source": [
    "x_treino = df_missing[df_missing['PitchRate'].notnull()]\n",
    "x_treino.drop('PitchRate', axis = 1, inplace=True)\n",
    "y_treino = df_missing[df_missing['PitchRate'].notnull()]['PitchRate']\n",
    "\n",
    "x_prever = df_missing[df_missing['PitchRate'].isnull()]\n",
    "x_prever.drop('PitchRate', axis = 1, inplace=True)\n",
    "y_prever = df_missing[df_missing['PitchRate'].isnull()]['PitchRate']"
   ]
  },
  {
   "cell_type": "code",
   "execution_count": 26,
   "metadata": {},
   "outputs": [],
   "source": [
    "# Aplicando modelo\n",
    "modelo = DecisionTreeRegressor()\n",
    "modelo.fit(x_treino,y_treino)\n",
    "\n",
    "# Predição dos valores missing\n",
    "y_prever = modelo.predict(x_prever)"
   ]
  },
  {
   "cell_type": "code",
   "execution_count": 27,
   "metadata": {},
   "outputs": [],
   "source": [
    "df_missing.PitchRate[df_missing.PitchRate.isnull()] = y_prever"
   ]
  },
  {
   "cell_type": "code",
   "execution_count": 28,
   "metadata": {},
   "outputs": [
    {
     "data": {
      "text/plain": [
       "StyleID             0.0\n",
       "Size(L)             0.0\n",
       "OG                  0.0\n",
       "FG                  0.0\n",
       "ABV                 0.0\n",
       "IBU                 0.0\n",
       "Color               0.0\n",
       "BoilSize            0.0\n",
       "BoilTime            0.0\n",
       "BoilGravity         0.0\n",
       "Efficiency          0.0\n",
       "PitchRate           0.0\n",
       "PrimaryTemp         0.0\n",
       "Plato               0.0\n",
       "Specific Gravity    0.0\n",
       "All Grain           0.0\n",
       "BIAB                0.0\n",
       "Partial Mash        0.0\n",
       "extract             0.0\n",
       "dtype: float64"
      ]
     },
     "execution_count": 28,
     "metadata": {},
     "output_type": "execute_result"
    }
   ],
   "source": [
    "percen_faltantes1 = round((df_missing.isnull().sum() / df_missing.shape[0] )*100, 2)\n",
    "percen_faltantes1"
   ]
  }
 ],
 "metadata": {
  "kernelspec": {
   "display_name": "Python 3",
   "language": "python",
   "name": "python3"
  },
  "language_info": {
   "codemirror_mode": {
    "name": "ipython",
    "version": 3
   },
   "file_extension": ".py",
   "mimetype": "text/x-python",
   "name": "python",
   "nbconvert_exporter": "python",
   "pygments_lexer": "ipython3",
   "version": "3.12.2"
  }
 },
 "nbformat": 4,
 "nbformat_minor": 2
}
