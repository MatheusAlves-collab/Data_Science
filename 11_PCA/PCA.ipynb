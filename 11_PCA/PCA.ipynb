{
 "cells": [
  {
   "cell_type": "markdown",
   "metadata": {},
   "source": [
    "### Principal Component Analysis\n",
    "\n",
    "PCA , ou Análise de Componentes Principais, é uma técnica estatística utilizada para redução de dimensionalidade em conjuntos de dados de alta dimensionalidade. Seu objetivo principal é encontrar um conjunto de novas variáveis (componentes principais) que explicam a maior parte da variabilidade presente nos dados originais. \n",
    "\n",
    "Reduzir a dimensionalidade dos dados é uma etapa importante em muitas análises de dados e modelagem estatística, pois ajuda a simplificar a representação dos dados, ganhar performance computacional, melhorar a interpretabilidade dos modelos e evitar problemas como overfitting."
   ]
  },
  {
   "cell_type": "code",
   "execution_count": 2,
   "metadata": {},
   "outputs": [
    {
     "data": {
      "text/html": [
       "<div>\n",
       "<style scoped>\n",
       "    .dataframe tbody tr th:only-of-type {\n",
       "        vertical-align: middle;\n",
       "    }\n",
       "\n",
       "    .dataframe tbody tr th {\n",
       "        vertical-align: top;\n",
       "    }\n",
       "\n",
       "    .dataframe thead tr th {\n",
       "        text-align: left;\n",
       "    }\n",
       "</style>\n",
       "<table border=\"1\" class=\"dataframe\">\n",
       "  <thead>\n",
       "    <tr>\n",
       "      <th></th>\n",
       "      <th>sepal length (cm)</th>\n",
       "      <th>sepal width (cm)</th>\n",
       "      <th>petal length (cm)</th>\n",
       "      <th>petal width (cm)</th>\n",
       "    </tr>\n",
       "  </thead>\n",
       "  <tbody>\n",
       "    <tr>\n",
       "      <th>0</th>\n",
       "      <td>5.1</td>\n",
       "      <td>3.5</td>\n",
       "      <td>1.4</td>\n",
       "      <td>0.2</td>\n",
       "    </tr>\n",
       "    <tr>\n",
       "      <th>1</th>\n",
       "      <td>4.9</td>\n",
       "      <td>3.0</td>\n",
       "      <td>1.4</td>\n",
       "      <td>0.2</td>\n",
       "    </tr>\n",
       "    <tr>\n",
       "      <th>2</th>\n",
       "      <td>4.7</td>\n",
       "      <td>3.2</td>\n",
       "      <td>1.3</td>\n",
       "      <td>0.2</td>\n",
       "    </tr>\n",
       "    <tr>\n",
       "      <th>3</th>\n",
       "      <td>4.6</td>\n",
       "      <td>3.1</td>\n",
       "      <td>1.5</td>\n",
       "      <td>0.2</td>\n",
       "    </tr>\n",
       "    <tr>\n",
       "      <th>4</th>\n",
       "      <td>5.0</td>\n",
       "      <td>3.6</td>\n",
       "      <td>1.4</td>\n",
       "      <td>0.2</td>\n",
       "    </tr>\n",
       "  </tbody>\n",
       "</table>\n",
       "</div>"
      ],
      "text/plain": [
       "  sepal length (cm) sepal width (cm) petal length (cm) petal width (cm)\n",
       "0               5.1              3.5               1.4              0.2\n",
       "1               4.9              3.0               1.4              0.2\n",
       "2               4.7              3.2               1.3              0.2\n",
       "3               4.6              3.1               1.5              0.2\n",
       "4               5.0              3.6               1.4              0.2"
      ]
     },
     "execution_count": 2,
     "metadata": {},
     "output_type": "execute_result"
    }
   ],
   "source": [
    "from sklearn.datasets import load_iris\n",
    "import pandas as pd\n",
    "\n",
    "iris = load_iris()\n",
    "x_iris = pd.DataFrame(iris.data, columns= [iris.feature_names])\n",
    "y_iris = pd.Series(iris.target)\n",
    "\n",
    "x_iris.head()"
   ]
  },
  {
   "cell_type": "code",
   "execution_count": 4,
   "metadata": {},
   "outputs": [
    {
     "name": "stdout",
     "output_type": "stream",
     "text": [
      "Acurácia: 0.93\n"
     ]
    }
   ],
   "source": [
    "from sklearn.preprocessing import MinMaxScaler\n",
    "from sklearn.decomposition import PCA\n",
    "from sklearn.model_selection import train_test_split\n",
    "from sklearn.neighbors import KNeighborsClassifier\n",
    "\n",
    "# Normalizando as variaveis\n",
    "normalizador = MinMaxScaler(feature_range=(0,1))\n",
    "x_norm = normalizador.fit_transform(x_iris)\n",
    "\n",
    "#PCA\n",
    "pca = PCA(n_components=2)\n",
    "x_pca = pca.fit_transform(x_norm)\n",
    "\n",
    "# Treino e teste\n",
    "x_treino, x_teste, y_treino, y_teste =train_test_split(x_pca,y_iris, test_size=0.3, random_state=14)\n",
    "\n",
    "# Criando Modelo\n",
    "modelo = KNeighborsClassifier()\n",
    "resultado = modelo.fit(x_treino, y_treino)\n",
    "\n",
    "# Resultado\n",
    "score = resultado.score(x_teste,y_teste)\n",
    "print(\"Acurácia:\", round(score,2))"
   ]
  },
  {
   "cell_type": "code",
   "execution_count": 12,
   "metadata": {},
   "outputs": [
    {
     "name": "stdout",
     "output_type": "stream",
     "text": [
      "Variância Explicada pelos Componentes [0.84136038 0.11751808]\n"
     ]
    },
    {
     "data": {
      "image/png": "[encoded data removed]",
      "text/plain": [
       "<Figure size 400x600 with 1 Axes>"
      ]
     },
     "metadata": {},
     "output_type": "display_data"
    }
   ],
   "source": [
    "import matplotlib.pyplot as plt\n",
    "import numpy as np\n",
    "import seaborn as sns\n",
    "\n",
    "print(\"Variância Explicada pelos Componentes\", pca.explained_variance_ratio_)\n",
    "\n",
    "# Obtendo a porcentagem explicada dos componentes principais\n",
    "porcentagens_explicadas = pca.explained_variance_ratio_\n",
    "\n",
    "# Índices dos componentes principais\n",
    "indices = np.arange(len(porcentagens_explicadas)) + 1\n",
    "\n",
    "# Plotagem do gráfico de barras\n",
    "sns.set_style(\"white\")  # Definindo o estilo do seaborn\n",
    "plt.figure(figsize=(4, 6))  # Definindo o tamanho da figura\n",
    "barras = plt.bar(indices, porcentagens_explicadas * 100, color='blue')\n",
    "\n",
    "# Adicionando os rótulos dos dados acima das barras\n",
    "for i, barra in enumerate(barras):\n",
    "    altura = barra.get_height()\n",
    "    plt.text(barra.get_x() + barra.get_width() / 2, altura, f'{porcentagens_explicadas[i]*100:.2f}%', ha='center', va='bottom')\n",
    "\n",
    "# Plotagem do gráfico de barras\n",
    "plt.bar(indices, porcentagens_explicadas * 100, color='blue')\n",
    "plt.xlabel('Componentes Principais')\n",
    "plt.ylabel('Porcentagem Explicada (%)')\n",
    "plt.title('Porcentagem Explicada por Componente Principal')\n",
    "plt.xticks(indices)\n",
    "plt.grid(True)\n",
    "plt.show()"
   ]
  }
 ],
 "metadata": {
  "kernelspec": {
   "display_name": "Python 3",
   "language": "python",
   "name": "python3"
  },
  "language_info": {
   "codemirror_mode": {
    "name": "ipython",
    "version": 3
   },
   "file_extension": ".py",
   "mimetype": "text/x-python",
   "name": "python",
   "nbconvert_exporter": "python",
   "pygments_lexer": "ipython3",
   "version": "3.12.2"
  }
 },
 "nbformat": 4,
 "nbformat_minor": 2
}
