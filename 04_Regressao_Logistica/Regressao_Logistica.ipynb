{
 "cells": [
  {
   "cell_type": "code",
   "execution_count": 1,
   "metadata": {},
   "outputs": [],
   "source": [
    "import matplotlib.pyplot as plt\n",
    "import numpy as np\n",
    "import pandas as pd\n",
    "from sklearn.linear_model import LogisticRegression\n",
    "from sklearn.model_selection import cross_val_score\n",
    "from sklearn.model_selection import StratifiedKFold\n",
    "\n",
    "from sklearn.model_selection import RandomizedSearchCV\n",
    "from sklearn.model_selection import GridSearchCV\n",
    "\n",
    "from warnings import simplefilter\n",
    "from sklearn.exceptions import ConvergenceWarning\n",
    "simplefilter(\"ignore\", category=ConvergenceWarning)\n",
    "\n",
    "import warnings\n",
    "warnings.simplefilter(action='ignore', category=FutureWarning)\n",
    "\n",
    "pd.set_option('display.max_columns',68)\n",
    "pd.set_option('display.max_rows',68)\n",
    "\n",
    "# print(pd.__version__)"
   ]
  },
  {
   "cell_type": "markdown",
   "metadata": {},
   "source": [
    "<h1>Regressão Logística <h1>"
   ]
  },
  {
   "cell_type": "markdown",
   "metadata": {},
   "source": [
    "A regressão logística é um metodo de previsão para classificar um evento com duas classes, 0 ou 1 e ela faz uso da função sigmoide, já que ela é ideal para descrever o comportamento de duas classes, ela usa como base a regressão linear como variável preditora."
   ]
  },
  {
   "cell_type": "markdown",
   "metadata": {},
   "source": [
    "$$ f(Y) = \\frac{1} {1 + e^-Y }$$\n",
    "\n",
    "$$Y = \\beta_0 + \\beta_1*x_1 + \\beta_1*x_1 + ... +  \\beta_k*x_k "
   ]
  },
  {
   "cell_type": "code",
   "execution_count": 2,
   "metadata": {},
   "outputs": [
    {
     "data": {
      "image/png": "[encoded data removed]",
      "text/plain": [
       "<Figure size 432x288 with 1 Axes>"
      ]
     },
     "metadata": {
      "needs_background": "light"
     },
     "output_type": "display_data"
    }
   ],
   "source": [
    "xlog = np.linspace(-10,10, 50)\n",
    "plt.plot(xlog, 1 / (1 + np.exp(-xlog)) , color = 'red')\n",
    "plt.title(\"Função Sigmóde\")\n",
    "plt.show()\n"
   ]
  },
  {
   "cell_type": "markdown",
   "metadata": {},
   "source": [
    "Se possuímos mais de uma classe pra prever o modelo irá gerar valores 0 ou 1 para cada classe, onde na predição final para um caso apenas uma das classes terá o valor 1 enquanto as outras ficarão com 0. No caso 4 classes serão geradas 4 equações diferentes e a classe que mais se aproxima de 1 será a classe que o modelo retornará como previsão."
   ]
  },
  {
   "cell_type": "markdown",
   "metadata": {},
   "source": [
    "<h2>Avaliação de Desodorantes <h2>"
   ]
  },
  {
   "cell_type": "markdown",
   "metadata": {},
   "source": [
    "Foi realizada uma pesquisa para avaliação de desodorantes onde o entrevistado responde se gostou ou não do produto com base em diversas qualidades listadas no questionario. Base de dados disponível em  https://www.kaggle.com/ramkumarr02/deodorant-instant-liking-data. <br>"
   ]
  },
  {
   "cell_type": "code",
   "execution_count": 3,
   "metadata": {},
   "outputs": [],
   "source": [
    "df = pd.read_csv('Data_train_reduced.csv')\n",
    "\n",
    "percen_faltantes = round((df.isnull().sum() / len(df['Instant.Liking']) )*100, 2)"
   ]
  },
  {
   "cell_type": "code",
   "execution_count": 4,
   "metadata": {},
   "outputs": [],
   "source": [
    "# limpeza\n",
    "df_desodorante = (df.drop(['q8.20', 'q8.18', 'q8.17', 'q8.8', 'q8.9', 'q8.10', 'q8.2', \n",
    "                           'Respondent.ID', 'Product', 'q1_1.personal.opinion.of.this.Deodorant'], axis='columns')).copy()\n",
    "\n",
    "df_desodorante['q8.12'].fillna(df_desodorante['q8.12'].median(), inplace= True ) \n",
    "df_desodorante['q8.7'].fillna(df_desodorante['q8.12'].median(), inplace= True ) \n",
    "\n",
    "tipos = df_desodorante.dtypes"
   ]
  },
  {
   "cell_type": "code",
   "execution_count": 5,
   "metadata": {},
   "outputs": [],
   "source": [
    "perc_faltantes_new = round((df_desodorante.isnull().sum() / len(df_desodorante['Instant.Liking']) )*100, 2)"
   ]
  },
  {
   "cell_type": "code",
   "execution_count": 6,
   "metadata": {},
   "outputs": [],
   "source": [
    "x_des = df_desodorante.drop(['Instant.Liking'], axis='columns')\n",
    "y_des = df_desodorante['Instant.Liking']"
   ]
  },
  {
   "cell_type": "code",
   "execution_count": 7,
   "metadata": {},
   "outputs": [
    {
     "name": "stdout",
     "output_type": "stream",
     "text": [
      "Acurácia de 0.752\n"
     ]
    }
   ],
   "source": [
    "# Modelagem\n",
    "\n",
    "# Separando folds\n",
    "str_kfold = StratifiedKFold(n_splits=5)\n",
    "\n",
    "#Criando modelo\n",
    "modelo_log = LogisticRegression()\n",
    "resultado = cross_val_score(modelo_log, x_des, y_des, cv = str_kfold)\n",
    "\n",
    "#Acurácia\n",
    "print('Acurácia de', resultado.mean())"
   ]
  },
  {
   "cell_type": "markdown",
   "metadata": {},
   "source": [
    "É possível utilizar os métodos de regularização Lasso e Ridge na regressão logística assim como foi feita na regressão linear, ou seja, iremos ajustar os parâmetros L1 e $\\lambda$ para localizar qual o melhor valor que otimiza nossa acurácia."
   ]
  },
  {
   "cell_type": "code",
   "execution_count": 8,
   "metadata": {},
   "outputs": [
    {
     "name": "stdout",
     "output_type": "stream",
     "text": [
      "Melhor Acurácia: 0.7544\n",
      "Parâmetro C: 0.5\n",
      "Regularização: l1\n"
     ]
    }
   ],
   "source": [
    "# Valores a serem testados\n",
    "Val_C = np.array([0.01, 0.1, 0.5, 1, 2, 3, 5, 10, 20, 50, 100])\n",
    "regul = ['l1' , 'l2']\n",
    "val_grid = {'C': Val_C, 'penalty': regul}\n",
    "\n",
    "#Criando modelo\n",
    "modelo_log1 = LogisticRegression(solver='liblinear') # Solver 'liblinear' suporta l1 e l2, \n",
    "                                                     # https://scikit-learn.org/stable/modules/generated/sklearn.linear_model.LogisticRegression.html\n",
    "\n",
    "#Criando Grids\n",
    "procura = GridSearchCV(estimator= modelo_log1, param_grid= val_grid,  cv = 5) # Essa função testa todas as combinações possíveis\n",
    "procura.fit(x_des, y_des)\n",
    "\n",
    "#Imprimindo a melhor acurácia\n",
    "print(\"Melhor Acurácia:\", procura.best_score_)\n",
    "print(\"Parâmetro C:\", procura.best_estimator_.C)\n",
    "print(\"Regularização:\", procura.best_estimator_.penalty)\n"
   ]
  },
  {
   "cell_type": "markdown",
   "metadata": {},
   "source": [
    "<h3>Predição Câncer de Mama<h3>"
   ]
  },
  {
   "cell_type": "markdown",
   "metadata": {},
   "source": [
    "Dados de mulheres com câncer do pacote Sklearn do Python."
   ]
  },
  {
   "cell_type": "code",
   "execution_count": 9,
   "metadata": {},
   "outputs": [
    {
     "data": {
      "text/html": [
       "<div>\n",
       "<style scoped>\n",
       "    .dataframe tbody tr th:only-of-type {\n",
       "        vertical-align: middle;\n",
       "    }\n",
       "\n",
       "    .dataframe tbody tr th {\n",
       "        vertical-align: top;\n",
       "    }\n",
       "\n",
       "    .dataframe thead tr th {\n",
       "        text-align: left;\n",
       "    }\n",
       "</style>\n",
       "<table border=\"1\" class=\"dataframe\">\n",
       "  <thead>\n",
       "    <tr>\n",
       "      <th></th>\n",
       "      <th>mean radius</th>\n",
       "      <th>mean texture</th>\n",
       "      <th>mean perimeter</th>\n",
       "      <th>mean area</th>\n",
       "      <th>mean smoothness</th>\n",
       "      <th>mean compactness</th>\n",
       "      <th>mean concavity</th>\n",
       "      <th>mean concave points</th>\n",
       "      <th>mean symmetry</th>\n",
       "      <th>mean fractal dimension</th>\n",
       "      <th>radius error</th>\n",
       "      <th>texture error</th>\n",
       "      <th>perimeter error</th>\n",
       "      <th>area error</th>\n",
       "      <th>smoothness error</th>\n",
       "      <th>compactness error</th>\n",
       "      <th>concavity error</th>\n",
       "      <th>concave points error</th>\n",
       "      <th>symmetry error</th>\n",
       "      <th>fractal dimension error</th>\n",
       "      <th>worst radius</th>\n",
       "      <th>worst texture</th>\n",
       "      <th>worst perimeter</th>\n",
       "      <th>worst area</th>\n",
       "      <th>worst smoothness</th>\n",
       "      <th>worst compactness</th>\n",
       "      <th>worst concavity</th>\n",
       "      <th>worst concave points</th>\n",
       "      <th>worst symmetry</th>\n",
       "      <th>worst fractal dimension</th>\n",
       "    </tr>\n",
       "  </thead>\n",
       "  <tbody>\n",
       "    <tr>\n",
       "      <th>0</th>\n",
       "      <td>17.99</td>\n",
       "      <td>10.38</td>\n",
       "      <td>122.80</td>\n",
       "      <td>1001.0</td>\n",
       "      <td>0.11840</td>\n",
       "      <td>0.27760</td>\n",
       "      <td>0.3001</td>\n",
       "      <td>0.14710</td>\n",
       "      <td>0.2419</td>\n",
       "      <td>0.07871</td>\n",
       "      <td>1.0950</td>\n",
       "      <td>0.9053</td>\n",
       "      <td>8.589</td>\n",
       "      <td>153.40</td>\n",
       "      <td>0.006399</td>\n",
       "      <td>0.04904</td>\n",
       "      <td>0.05373</td>\n",
       "      <td>0.01587</td>\n",
       "      <td>0.03003</td>\n",
       "      <td>0.006193</td>\n",
       "      <td>25.38</td>\n",
       "      <td>17.33</td>\n",
       "      <td>184.60</td>\n",
       "      <td>2019.0</td>\n",
       "      <td>0.1622</td>\n",
       "      <td>0.6656</td>\n",
       "      <td>0.7119</td>\n",
       "      <td>0.2654</td>\n",
       "      <td>0.4601</td>\n",
       "      <td>0.11890</td>\n",
       "    </tr>\n",
       "    <tr>\n",
       "      <th>1</th>\n",
       "      <td>20.57</td>\n",
       "      <td>17.77</td>\n",
       "      <td>132.90</td>\n",
       "      <td>1326.0</td>\n",
       "      <td>0.08474</td>\n",
       "      <td>0.07864</td>\n",
       "      <td>0.0869</td>\n",
       "      <td>0.07017</td>\n",
       "      <td>0.1812</td>\n",
       "      <td>0.05667</td>\n",
       "      <td>0.5435</td>\n",
       "      <td>0.7339</td>\n",
       "      <td>3.398</td>\n",
       "      <td>74.08</td>\n",
       "      <td>0.005225</td>\n",
       "      <td>0.01308</td>\n",
       "      <td>0.01860</td>\n",
       "      <td>0.01340</td>\n",
       "      <td>0.01389</td>\n",
       "      <td>0.003532</td>\n",
       "      <td>24.99</td>\n",
       "      <td>23.41</td>\n",
       "      <td>158.80</td>\n",
       "      <td>1956.0</td>\n",
       "      <td>0.1238</td>\n",
       "      <td>0.1866</td>\n",
       "      <td>0.2416</td>\n",
       "      <td>0.1860</td>\n",
       "      <td>0.2750</td>\n",
       "      <td>0.08902</td>\n",
       "    </tr>\n",
       "    <tr>\n",
       "      <th>2</th>\n",
       "      <td>19.69</td>\n",
       "      <td>21.25</td>\n",
       "      <td>130.00</td>\n",
       "      <td>1203.0</td>\n",
       "      <td>0.10960</td>\n",
       "      <td>0.15990</td>\n",
       "      <td>0.1974</td>\n",
       "      <td>0.12790</td>\n",
       "      <td>0.2069</td>\n",
       "      <td>0.05999</td>\n",
       "      <td>0.7456</td>\n",
       "      <td>0.7869</td>\n",
       "      <td>4.585</td>\n",
       "      <td>94.03</td>\n",
       "      <td>0.006150</td>\n",
       "      <td>0.04006</td>\n",
       "      <td>0.03832</td>\n",
       "      <td>0.02058</td>\n",
       "      <td>0.02250</td>\n",
       "      <td>0.004571</td>\n",
       "      <td>23.57</td>\n",
       "      <td>25.53</td>\n",
       "      <td>152.50</td>\n",
       "      <td>1709.0</td>\n",
       "      <td>0.1444</td>\n",
       "      <td>0.4245</td>\n",
       "      <td>0.4504</td>\n",
       "      <td>0.2430</td>\n",
       "      <td>0.3613</td>\n",
       "      <td>0.08758</td>\n",
       "    </tr>\n",
       "    <tr>\n",
       "      <th>3</th>\n",
       "      <td>11.42</td>\n",
       "      <td>20.38</td>\n",
       "      <td>77.58</td>\n",
       "      <td>386.1</td>\n",
       "      <td>0.14250</td>\n",
       "      <td>0.28390</td>\n",
       "      <td>0.2414</td>\n",
       "      <td>0.10520</td>\n",
       "      <td>0.2597</td>\n",
       "      <td>0.09744</td>\n",
       "      <td>0.4956</td>\n",
       "      <td>1.1560</td>\n",
       "      <td>3.445</td>\n",
       "      <td>27.23</td>\n",
       "      <td>0.009110</td>\n",
       "      <td>0.07458</td>\n",
       "      <td>0.05661</td>\n",
       "      <td>0.01867</td>\n",
       "      <td>0.05963</td>\n",
       "      <td>0.009208</td>\n",
       "      <td>14.91</td>\n",
       "      <td>26.50</td>\n",
       "      <td>98.87</td>\n",
       "      <td>567.7</td>\n",
       "      <td>0.2098</td>\n",
       "      <td>0.8663</td>\n",
       "      <td>0.6869</td>\n",
       "      <td>0.2575</td>\n",
       "      <td>0.6638</td>\n",
       "      <td>0.17300</td>\n",
       "    </tr>\n",
       "    <tr>\n",
       "      <th>4</th>\n",
       "      <td>20.29</td>\n",
       "      <td>14.34</td>\n",
       "      <td>135.10</td>\n",
       "      <td>1297.0</td>\n",
       "      <td>0.10030</td>\n",
       "      <td>0.13280</td>\n",
       "      <td>0.1980</td>\n",
       "      <td>0.10430</td>\n",
       "      <td>0.1809</td>\n",
       "      <td>0.05883</td>\n",
       "      <td>0.7572</td>\n",
       "      <td>0.7813</td>\n",
       "      <td>5.438</td>\n",
       "      <td>94.44</td>\n",
       "      <td>0.011490</td>\n",
       "      <td>0.02461</td>\n",
       "      <td>0.05688</td>\n",
       "      <td>0.01885</td>\n",
       "      <td>0.01756</td>\n",
       "      <td>0.005115</td>\n",
       "      <td>22.54</td>\n",
       "      <td>16.67</td>\n",
       "      <td>152.20</td>\n",
       "      <td>1575.0</td>\n",
       "      <td>0.1374</td>\n",
       "      <td>0.2050</td>\n",
       "      <td>0.4000</td>\n",
       "      <td>0.1625</td>\n",
       "      <td>0.2364</td>\n",
       "      <td>0.07678</td>\n",
       "    </tr>\n",
       "  </tbody>\n",
       "</table>\n",
       "</div>"
      ],
      "text/plain": [
       "  mean radius mean texture mean perimeter mean area mean smoothness  \\\n",
       "0       17.99        10.38         122.80    1001.0         0.11840   \n",
       "1       20.57        17.77         132.90    1326.0         0.08474   \n",
       "2       19.69        21.25         130.00    1203.0         0.10960   \n",
       "3       11.42        20.38          77.58     386.1         0.14250   \n",
       "4       20.29        14.34         135.10    1297.0         0.10030   \n",
       "\n",
       "  mean compactness mean concavity mean concave points mean symmetry  \\\n",
       "0          0.27760         0.3001             0.14710        0.2419   \n",
       "1          0.07864         0.0869             0.07017        0.1812   \n",
       "2          0.15990         0.1974             0.12790        0.2069   \n",
       "3          0.28390         0.2414             0.10520        0.2597   \n",
       "4          0.13280         0.1980             0.10430        0.1809   \n",
       "\n",
       "  mean fractal dimension radius error texture error perimeter error  \\\n",
       "0                0.07871       1.0950        0.9053           8.589   \n",
       "1                0.05667       0.5435        0.7339           3.398   \n",
       "2                0.05999       0.7456        0.7869           4.585   \n",
       "3                0.09744       0.4956        1.1560           3.445   \n",
       "4                0.05883       0.7572        0.7813           5.438   \n",
       "\n",
       "  area error smoothness error compactness error concavity error  \\\n",
       "0     153.40         0.006399           0.04904         0.05373   \n",
       "1      74.08         0.005225           0.01308         0.01860   \n",
       "2      94.03         0.006150           0.04006         0.03832   \n",
       "3      27.23         0.009110           0.07458         0.05661   \n",
       "4      94.44         0.011490           0.02461         0.05688   \n",
       "\n",
       "  concave points error symmetry error fractal dimension error worst radius  \\\n",
       "0              0.01587        0.03003                0.006193        25.38   \n",
       "1              0.01340        0.01389                0.003532        24.99   \n",
       "2              0.02058        0.02250                0.004571        23.57   \n",
       "3              0.01867        0.05963                0.009208        14.91   \n",
       "4              0.01885        0.01756                0.005115        22.54   \n",
       "\n",
       "  worst texture worst perimeter worst area worst smoothness worst compactness  \\\n",
       "0         17.33          184.60     2019.0           0.1622            0.6656   \n",
       "1         23.41          158.80     1956.0           0.1238            0.1866   \n",
       "2         25.53          152.50     1709.0           0.1444            0.4245   \n",
       "3         26.50           98.87      567.7           0.2098            0.8663   \n",
       "4         16.67          152.20     1575.0           0.1374            0.2050   \n",
       "\n",
       "  worst concavity worst concave points worst symmetry worst fractal dimension  \n",
       "0          0.7119               0.2654         0.4601                 0.11890  \n",
       "1          0.2416               0.1860         0.2750                 0.08902  \n",
       "2          0.4504               0.2430         0.3613                 0.08758  \n",
       "3          0.6869               0.2575         0.6638                 0.17300  \n",
       "4          0.4000               0.1625         0.2364                 0.07678  "
      ]
     },
     "execution_count": 9,
     "metadata": {},
     "output_type": "execute_result"
    }
   ],
   "source": [
    "from sklearn.datasets import load_breast_cancer\n",
    "dados = load_breast_cancer()\n",
    "\n",
    "x_can = pd.DataFrame(dados.data, columns= [dados.feature_names])\n",
    "y_can = pd.Series(dados.target)\n",
    "\n",
    "x_can.head()"
   ]
  },
  {
   "cell_type": "code",
   "execution_count": 10,
   "metadata": {},
   "outputs": [],
   "source": [
    "perc_cancer_faltantes = round((x_can.isnull().sum() / x_can.shape[0] )*100, 2)"
   ]
  },
  {
   "cell_type": "code",
   "execution_count": 11,
   "metadata": {},
   "outputs": [
    {
     "data": {
      "text/plain": [
       "GridSearchCV(cv=5, estimator=LogisticRegression(solver='liblinear'),\n",
       "             param_grid={'C': array([1.0e-02, 1.0e-01, 5.0e-01, 1.0e+00, 2.0e+00, 3.0e+00, 5.0e+00,\n",
       "       1.0e+01, 2.0e+01, 5.0e+01, 9.5e+01, 1.0e+02]),\n",
       "                         'penalty': ['l1', 'l2']})"
      ]
     },
     "execution_count": 11,
     "metadata": {},
     "output_type": "execute_result"
    }
   ],
   "source": [
    "# Valores a serem testados\n",
    "Val_C_can = np.array([0.01, 0.1, 0.5, 1, 2, 3, 5, 10, 20, 50, 95, 100])\n",
    "regul_can = ['l1' , 'l2']\n",
    "val_grid_can = {'C': Val_C_can, 'penalty': regul_can}\n",
    "\n",
    "# Modelo\n",
    "modelo_log_cancer = LogisticRegression(solver='liblinear')\n",
    "\n",
    "#Criando Grids\n",
    "procura_can = GridSearchCV(estimator= modelo_log_cancer, param_grid= val_grid_can,  cv = 5) # Essa função testa todas as combinações possíveis\n",
    "procura_can.fit(x_can, y_can)"
   ]
  },
  {
   "cell_type": "code",
   "execution_count": 12,
   "metadata": {},
   "outputs": [
    {
     "name": "stdout",
     "output_type": "stream",
     "text": [
      "Melhor Acurácia: 0.968390001552554\n",
      "Parâmetro C: 95.0\n",
      "Regularização: l1\n"
     ]
    }
   ],
   "source": [
    "#Imprimindo a melhor acurácia\n",
    "print(\"Melhor Acurácia:\", procura_can.best_score_)\n",
    "print(\"Parâmetro C:\", procura_can.best_estimator_.C)\n",
    "print(\"Regularização:\", procura_can.best_estimator_.penalty)"
   ]
  },
  {
   "cell_type": "markdown",
   "metadata": {},
   "source": [
    "<h3>Matriz de Confusão<h3>"
   ]
  },
  {
   "cell_type": "markdown",
   "metadata": {},
   "source": [
    "Também conhecida como Matriz de Erro, a matriz de Confusão é uma tabela que indica a quantidade de  *falsos positivos*, *falsos negativos*, *verdadeiros positivos* e *verdadeiros negativos* da predição de um modelo de classificação.\n",
    "\n",
    "<ul>\n",
    "<li><b>Falso Negativo:</b> Quando o modelo preve resultado positivo, porém o resultado real é negativo, é o pior tipo de erro que pode ocorrer</li>\n",
    "<li><b>Falso Positivo:</b> Quando o modelo preve resultado positivo, porém o resultado real é negativo</li>\n",
    "<li><b>Verdadeiro Negativo:</b> Quando o modelo preve resultado negativo, e o resultado real é de fato negativo</li>\n",
    "<li><b>Verdadeiro Positivo:</b> Quando o modelo preve resultado positivo, e o resultado real é de fato positivo</li>\n",
    "</ul>"
   ]
  },
  {
   "cell_type": "code",
   "execution_count": 13,
   "metadata": {},
   "outputs": [
    {
     "data": {
      "text/plain": [
       "0.9766081871345029"
      ]
     },
     "execution_count": 13,
     "metadata": {},
     "output_type": "execute_result"
    }
   ],
   "source": [
    "from sklearn.metrics import confusion_matrix\n",
    "from sklearn.model_selection import train_test_split\n",
    "#Treino e teste\n",
    "X_treino, X_teste, Y_treino, Y_teste = train_test_split(x_can, y_can, test_size= 0.3, random_state=9)\n",
    "\n",
    "#Modelo\n",
    "modelo_cancer_final = LogisticRegression(C= 100, penalty= 'l1', solver='liblinear')\n",
    "modelo_cancer_final.fit(X_treino, Y_treino)\n",
    "\n",
    "predicao = modelo_cancer_final.predict(X_teste)\n",
    "\n",
    "resultado = modelo_cancer_final.score(X_teste, Y_teste)\n",
    "\n",
    "matriz = confusion_matrix(Y_teste, predicao)\n",
    "\n",
    "resultado"
   ]
  },
  {
   "cell_type": "code",
   "execution_count": 24,
   "metadata": {},
   "outputs": [
    {
     "data": {
      "text/plain": [
       "array([[ 59,   3],\n",
       "       [  1, 108]], dtype=int64)"
      ]
     },
     "execution_count": 24,
     "metadata": {},
     "output_type": "execute_result"
    }
   ],
   "source": [
    "matriz"
   ]
  },
  {
   "cell_type": "markdown",
   "metadata": {},
   "source": [
    "<h2>Sensibilidade, Especificidade e Curva ROC<h2>"
   ]
  },
  {
   "cell_type": "markdown",
   "metadata": {},
   "source": [
    "<b>Sensibilidade</b> é a probabilidade de um resultado positivo de teste, dado que o indivíduo testado realmente tenha a doença (feature). O complementar da sensibilidade é o falso negativo.\n",
    "\n",
    "<b>Especificidade</b> é a probabilidade de um resultado negativo de teste, dado que o indivíduo testado não tenha a doença (feature). O complementar da especificidade é o falso positivo."
   ]
  },
  {
   "cell_type": "code",
   "execution_count": 27,
   "metadata": {},
   "outputs": [
    {
     "name": "stdout",
     "output_type": "stream",
     "text": [
      "Sensibilidade: 0.98\n",
      "Especificidade: 0.03\n"
     ]
    }
   ],
   "source": [
    "sensibilidade = matriz[0,0] / (matriz[0,0] + matriz[1,0])\n",
    "\n",
    "especificidade = matriz[0,1] / (matriz[0,1] + matriz[1,1])\n",
    "\n",
    "print(\"Sensibilidade:\", round(sensibilidade,2))\n",
    "print(\"Especificidade:\", round(especificidade,2))"
   ]
  },
  {
   "cell_type": "markdown",
   "metadata": {},
   "source": [
    "Receiver Operator Characteristic Curve\n",
    "\n",
    "Uma curva ROC é um gráfico de linha que plota a probabilidde de um resultado positivo verdadeiro (sensibilidade do teste) versus a probalidade de um resultado falso positivo\n",
    "No geral, a sensibilidade e especificidade variam indiretamente proporcionais, na prática, é rara a\n",
    "existência de um teste que seja altamente sensível e específico."
   ]
  },
  {
   "cell_type": "code",
   "execution_count": 30,
   "metadata": {},
   "outputs": [],
   "source": [
    "predicoes = modelo_cancer_final.predict_proba(X_teste)\n",
    "\n",
    "probs = predicoes[:,1]  # Probabilidades de pertence a classe 0 ou 1, limite é de 0,5. Abixo de 0,5 classe 0\n",
    "\n",
    "from sklearn.metrics import roc_curve\n",
    "\n",
    "fpr, tpr, limites = roc_curve(Y_teste, probs)"
   ]
  },
  {
   "cell_type": "code",
   "execution_count": 32,
   "metadata": {},
   "outputs": [
    {
     "name": "stdout",
     "output_type": "stream",
     "text": [
      "TPR: [0.         0.00917431 0.94495413 0.94495413 0.98165138 0.98165138\n",
      " 0.99082569 0.99082569 1.         1.        ]\n",
      "FPR: [0.         0.         0.         0.03225806 0.03225806 0.0483871\n",
      " 0.0483871  0.11290323 0.11290323 1.        ]\n",
      "Limites: [2.00000000e+00 9.99999998e-01 8.93188643e-01 8.83423300e-01\n",
      " 7.01225205e-01 6.82363253e-01 6.20722235e-01 1.70541372e-01\n",
      " 1.19692022e-01 1.02215872e-51]\n"
     ]
    }
   ],
   "source": [
    "print('TPR:',tpr)\n",
    "print('FPR:',fpr)\n",
    "print('Limites:',limites)"
   ]
  },
  {
   "cell_type": "code",
   "execution_count": 33,
   "metadata": {},
   "outputs": [
    {
     "data": {
      "image/png": "[encoded data removed]",
      "text/plain": [
       "<Figure size 432x288 with 1 Axes>"
      ]
     },
     "metadata": {
      "needs_background": "light"
     },
     "output_type": "display_data"
    }
   ],
   "source": [
    "import matplotlib.pyplot as plt\n",
    "plt.scatter(fpr,tpr)\n",
    "plt.show()"
   ]
  },
  {
   "cell_type": "code",
   "execution_count": 35,
   "metadata": {},
   "outputs": [
    {
     "name": "stdout",
     "output_type": "stream",
     "text": [
      "0.9973364900858241\n"
     ]
    }
   ],
   "source": [
    "from sklearn.metrics import roc_auc_score\n",
    "print(roc_auc_score(Y_teste,probs)) # Quanto maior a área embaixo da curva ROC melhor o modelo é"
   ]
  }
 ],
 "metadata": {
  "kernelspec": {
   "display_name": "Python 3",
   "language": "python",
   "name": "python3"
  },
  "language_info": {
   "codemirror_mode": {
    "name": "ipython",
    "version": 3
   },
   "file_extension": ".py",
   "mimetype": "text/x-python",
   "name": "python",
   "nbconvert_exporter": "python",
   "pygments_lexer": "ipython3",
   "version": "3.10.1"
  }
 },
 "nbformat": 4,
 "nbformat_minor": 2
}
