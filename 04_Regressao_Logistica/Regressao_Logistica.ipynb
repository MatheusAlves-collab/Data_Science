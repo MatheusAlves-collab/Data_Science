{
 "cells": [
  {
   "cell_type": "code",
   "execution_count": 48,
   "metadata": {},
   "outputs": [],
   "source": [
    "import matplotlib.pyplot as plt\n",
    "import numpy as np\n",
    "import pandas as pd\n",
    "from sklearn.linear_model import LogisticRegression\n",
    "from sklearn.model_selection import cross_val_score\n",
    "from sklearn.model_selection import StratifiedKFold\n",
    "\n",
    "from sklearn.model_selection import RandomizedSearchCV\n",
    "from sklearn.model_selection import GridSearchCV\n",
    "\n",
    "from warnings import simplefilter\n",
    "from sklearn.exceptions import ConvergenceWarning\n",
    "simplefilter(\"ignore\", category=ConvergenceWarning)\n",
    "\n",
    "pd.set_option('display.max_columns',68)\n",
    "pd.set_option('display.max_rows',68)"
   ]
  },
  {
   "cell_type": "markdown",
   "metadata": {},
   "source": [
    "<h1>Regressão Logística <h1>"
   ]
  },
  {
   "cell_type": "markdown",
   "metadata": {},
   "source": [
    "A regressão logística é um metodo de previsão para classificar um evento com duas classes, 0 ou 1 e ela faz uso da função sigmoide, já que ela é ideal para descrever o comportamento de duas classes, ela usa como base a regressão linear como variável preditora."
   ]
  },
  {
   "cell_type": "markdown",
   "metadata": {},
   "source": [
    "$$ f(Y) = \\frac{1} {1 + e^-Y }$$\n",
    "\n",
    "$$Y = \\beta_0 + \\beta_1*x_1 + \\beta_1*x_1 + ... +  \\beta_k*x_k "
   ]
  },
  {
   "cell_type": "code",
   "execution_count": 49,
   "metadata": {},
   "outputs": [
    {
     "data": {
      "image/png": "[encoded data removed]",
      "text/plain": [
       "<Figure size 432x288 with 1 Axes>"
      ]
     },
     "metadata": {
      "needs_background": "light"
     },
     "output_type": "display_data"
    }
   ],
   "source": [
    "xlog = np.linspace(-10,10, 50)\n",
    "plt.plot(xlog, 1 / (1 + np.exp(-xlog)) , color = 'red')\n",
    "plt.title(\"Função Sigmóde\")\n",
    "plt.show()\n"
   ]
  },
  {
   "cell_type": "markdown",
   "metadata": {},
   "source": [
    "Se possuímos mais de uma classe pra prever o modelo irá gerar valores 0 ou 1 para cada classe, onde na predição final para um caso apenas uma das classes terá o valor 1 enquanto as outras ficarão com 0. No caso 4 classes serão geradas 4 equações diferentes e a classe que mais se aproxima de 1 será a classe que o modelo retornará como previsão."
   ]
  },
  {
   "cell_type": "markdown",
   "metadata": {},
   "source": [
    "<h2>Avaliação de Desodorantes <h2>"
   ]
  },
  {
   "cell_type": "markdown",
   "metadata": {},
   "source": [
    "Foi realizada uma pesquisa para avaliação de desodorantes onde o entrevistado responde se gostou ou não do produto com base em diversas qualidades listadas no questionario. Base de dados disponível em  https://www.kaggle.com/ramkumarr02/deodorant-instant-liking-data. <br>"
   ]
  },
  {
   "cell_type": "code",
   "execution_count": 50,
   "metadata": {},
   "outputs": [],
   "source": [
    "df = pd.read_csv('Data_train_reduced.csv')\n",
    "\n",
    "percen_faltantes = round((df.isnull().sum() / len(df['Instant.Liking']) )*100, 2)\n",
    "\n",
    "tipos = df_desodorante.dtypes"
   ]
  },
  {
   "cell_type": "code",
   "execution_count": 51,
   "metadata": {},
   "outputs": [],
   "source": [
    "# limpeza\n",
    "df_desodorante = (df.drop(['q8.20', 'q8.18', 'q8.17', 'q8.8', 'q8.9', 'q8.10', 'q8.2', 'Respondent.ID', 'Product', 'q1_1.personal.opinion.of.this.Deodorant'], axis='columns')).copy()\n",
    "\n",
    "df_desodorante['q8.12'].fillna(df_desodorante['q8.12'].median(), inplace= True ) \n",
    "df_desodorante['q8.7'].fillna(df_desodorante['q8.12'].median(), inplace= True ) "
   ]
  },
  {
   "cell_type": "code",
   "execution_count": 52,
   "metadata": {},
   "outputs": [],
   "source": [
    "perc_faltantes_new = round((df_desodorante.isnull().sum() / len(df_desodorante['Instant.Liking']) )*100, 2)"
   ]
  },
  {
   "cell_type": "code",
   "execution_count": 53,
   "metadata": {},
   "outputs": [],
   "source": [
    "x_des = df_desodorante.drop(['Instant.Liking'], axis='columns')\n",
    "y_des = df_desodorante['Instant.Liking']"
   ]
  },
  {
   "cell_type": "code",
   "execution_count": 54,
   "metadata": {},
   "outputs": [
    {
     "name": "stdout",
     "output_type": "stream",
     "text": [
      "Acurácia de 0.752\n"
     ]
    }
   ],
   "source": [
    "# Modelagem\n",
    "\n",
    "# Separando folds\n",
    "str_kfold = StratifiedKFold(n_splits=5)\n",
    "\n",
    "#Criando modelo\n",
    "modelo_log = LogisticRegression()\n",
    "resultado = cross_val_score(modelo_log, x_des, y_des, cv = str_kfold)\n",
    "\n",
    "#Acurácia\n",
    "print('Acurácia de', resultado.mean())"
   ]
  },
  {
   "cell_type": "markdown",
   "metadata": {},
   "source": [
    "É possível utilizar os métodos de regularização Lasso e Ridge na regressão logística assim como foi feita na regressão linear, ou seja, iremos ajustar os parâmetros L1 e $\\lambda$ para localizar qual o melhor valor que otimiza nossa acurácia."
   ]
  },
  {
   "cell_type": "code",
   "execution_count": 56,
   "metadata": {},
   "outputs": [
    {
     "name": "stdout",
     "output_type": "stream",
     "text": [
      "Melhor Acurácia: 0.7528\n",
      "Parâmetro C: 0.01\n",
      "Regularização: l2\n"
     ]
    },
    {
     "name": "stderr",
     "output_type": "stream",
     "text": [
      "c:\\Users\\mathe\\AppData\\Local\\Programs\\Python\\Python310\\lib\\site-packages\\sklearn\\model_selection\\_validation.py:372: FitFailedWarning: \n",
      "55 fits failed out of a total of 110.\n",
      "The score on these train-test partitions for these parameters will be set to nan.\n",
      "If these failures are not expected, you can try to debug them by setting error_score='raise'.\n",
      "\n",
      "Below are more details about the failures:\n",
      "--------------------------------------------------------------------------------\n",
      "55 fits failed with the following error:\n",
      "Traceback (most recent call last):\n",
      "  File \"c:\\Users\\mathe\\AppData\\Local\\Programs\\Python\\Python310\\lib\\site-packages\\sklearn\\model_selection\\_validation.py\", line 680, in _fit_and_score\n",
      "    estimator.fit(X_train, y_train, **fit_params)\n",
      "  File \"c:\\Users\\mathe\\AppData\\Local\\Programs\\Python\\Python310\\lib\\site-packages\\sklearn\\linear_model\\_logistic.py\", line 1461, in fit\n",
      "    solver = _check_solver(self.solver, self.penalty, self.dual)\n",
      "  File \"c:\\Users\\mathe\\AppData\\Local\\Programs\\Python\\Python310\\lib\\site-packages\\sklearn\\linear_model\\_logistic.py\", line 447, in _check_solver\n",
      "    raise ValueError(\n",
      "ValueError: Solver lbfgs supports only 'l2' or 'none' penalties, got l1 penalty.\n",
      "\n",
      "  warnings.warn(some_fits_failed_message, FitFailedWarning)\n",
      "c:\\Users\\mathe\\AppData\\Local\\Programs\\Python\\Python310\\lib\\site-packages\\sklearn\\model_selection\\_search.py:969: UserWarning: One or more of the test scores are non-finite: [   nan 0.7528    nan 0.7524    nan 0.752     nan 0.752     nan 0.7524\n",
      "    nan 0.7524    nan 0.7524    nan 0.7524    nan 0.752     nan 0.7524\n",
      "    nan 0.752 ]\n",
      "  warnings.warn(\n"
     ]
    }
   ],
   "source": [
    "# Valores a serem testados\n",
    "Val_C = np.array([0.01, 0.1, 0.5, 1, 2, 3, 5, 10, 20, 50, 100])\n",
    "regul = ['l1' , 'l2']\n",
    "val_grid = {'C': Val_C, 'penalty': regul}\n",
    "\n",
    "#Criando modelo\n",
    "modelo_log1 = LogisticRegression()\n",
    "\n",
    "#Criando Grids\n",
    "procura = GridSearchCV(estimator= modelo_log1, param_grid= val_grid,  cv = 5) # Essa função testa todas as combinações possíveis\n",
    "procura.fit(x_des, y_des)\n",
    "\n",
    "#Imprimindo a melhor acurácia\n",
    "print(\"Melhor Acurácia:\", procura.best_score_)\n",
    "print(\"Parâmetro C:\", procura.best_estimator_.C)\n",
    "print(\"Regularização:\", procura.best_estimator_.penalty)\n"
   ]
  }
 ],
 "metadata": {
  "kernelspec": {
   "display_name": "Python 3",
   "language": "python",
   "name": "python3"
  },
  "language_info": {
   "codemirror_mode": {
    "name": "ipython",
    "version": 3
   },
   "file_extension": ".py",
   "mimetype": "text/x-python",
   "name": "python",
   "nbconvert_exporter": "python",
   "pygments_lexer": "ipython3",
   "version": "3.10.1"
  }
 },
 "nbformat": 4,
 "nbformat_minor": 2
}
